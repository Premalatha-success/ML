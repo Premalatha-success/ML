{
  "nbformat": 4,
  "nbformat_minor": 0,
  "metadata": {
    "colab": {
      "provenance": []
    },
    "kernelspec": {
      "name": "python3",
      "display_name": "Python 3"
    },
    "language_info": {
      "name": "python"
    }
  },
  "cells": [
    {
      "cell_type": "code",
      "execution_count": 2,
      "metadata": {
        "colab": {
          "base_uri": "https://localhost:8080/"
        },
        "id": "vu0uxu8n4-8T",
        "outputId": "aa649823-1344-40fb-d9bc-660d1097c6c2"
      },
      "outputs": [
        {
          "output_type": "stream",
          "name": "stdout",
          "text": [
            "   Gender  Height  Weight  Index\n",
            "0    Male     174      96      4\n",
            "1    Male     189      87      2\n",
            "2  Female     185     110      4\n",
            "3  Female     195     104      3\n",
            "4    Male     149      61      3\n"
          ]
        }
      ],
      "source": [
        "\n",
        "import pandas as pd\n",
        "\n",
        "# the dataset\n",
        "data = pd.read_csv('BMI.csv')\n",
        "\n",
        "# printing first few rows\n",
        "print(data.head())"
      ]
    },
    {
      "cell_type": "code",
      "source": [
        "\n",
        "from statsmodels.stats.outliers_influence import variance_inflation_factor\n",
        "\n",
        "# creating dummies for gender\n",
        "data['Gender'] = data['Gender'].map({'Male':0, 'Female':1})\n",
        "\n",
        "# the independent variables set\n",
        "X = data[['Gender', 'Height', 'Weight']]\n",
        "\n",
        "# VIF dataframe\n",
        "vif_data = pd.DataFrame()\n",
        "vif_data[\"feature\"] = X.columns\n",
        "\n",
        "# calculating VIF for each feature\n",
        "vif_data[\"VIF\"] = [variance_inflation_factor(X.values, i)\n",
        "                          for i in range(len(X.columns))]\n",
        "\n",
        "print(vif_data)"
      ],
      "metadata": {
        "colab": {
          "base_uri": "https://localhost:8080/"
        },
        "id": "IHnbQdvI5OZU",
        "outputId": "9735d10e-df6a-41e3-b702-e64f1f5665b5"
      },
      "execution_count": 3,
      "outputs": [
        {
          "output_type": "stream",
          "name": "stdout",
          "text": [
            "  feature        VIF\n",
            "0  Gender   2.028864\n",
            "1  Height  11.623103\n",
            "2  Weight  10.688377\n"
          ]
        }
      ]
    },
    {
      "cell_type": "code",
      "source": [],
      "metadata": {
        "id": "Ggfl3dGN5fi7"
      },
      "execution_count": null,
      "outputs": []
    }
  ]
}